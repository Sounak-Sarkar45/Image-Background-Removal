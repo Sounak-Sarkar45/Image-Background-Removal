{
 "cells": [
  {
   "cell_type": "code",
   "execution_count": 5,
   "id": "780bf391-643e-48fd-a55f-b20b8ba2e76c",
   "metadata": {},
   "outputs": [],
   "source": [
    "from pathlib import Path\n",
    "from rembg import remove, new_session\n",
    "\n",
    "session = new_session()\n",
    "\n",
    "for file in Path('data').glob('*.png'):\n",
    "    input_path = str(file)\n",
    "    output_path = str(file.parent / (file.stem + \".out.png\"))\n",
    "\n",
    "    with open(input_path, 'rb') as i:\n",
    "        with open(output_path, 'wb') as o:\n",
    "            input = i.read()\n",
    "            output = remove(input, session=session)\n",
    "            o.write(output)"
   ]
  }
 ],
 "metadata": {
  "kernelspec": {
   "display_name": "Python 3 (ipykernel)",
   "language": "python",
   "name": "python3"
  },
  "language_info": {
   "codemirror_mode": {
    "name": "ipython",
    "version": 3
   },
   "file_extension": ".py",
   "mimetype": "text/x-python",
   "name": "python",
   "nbconvert_exporter": "python",
   "pygments_lexer": "ipython3",
   "version": "3.10.16"
  }
 },
 "nbformat": 4,
 "nbformat_minor": 5
}
